{
 "cells": [
  {
   "cell_type": "code",
   "execution_count": null,
   "outputs": [],
   "source": [
    "import pickle\n",
    "\n",
    "import matplotlib.pyplot as plt\n",
    "import numpy as np\n",
    "import seaborn as sns\n",
    "from matplotlib import cm"
   ],
   "metadata": {
    "collapsed": false,
    "pycharm": {
     "name": "#%%\n"
    }
   }
  },
  {
   "cell_type": "code",
   "execution_count": null,
   "outputs": [],
   "source": [
    "TRAIN_RESULTS = './train_results'"
   ],
   "metadata": {
    "collapsed": false,
    "pycharm": {
     "name": "#%%\n"
    }
   }
  },
  {
   "cell_type": "code",
   "execution_count": null,
   "outputs": [],
   "source": [
    "title = pickle.load(open(TRAIN_RESULTS + 'title.p', 'rb'))\n",
    "params = pickle.load(open(TRAIN_RESULTS + 'params.p', 'rb'))\n",
    "avg = pickle.load(open(TRAIN_RESULTS + 'avg.p', 'rb'))\n",
    "desc = pickle.load(open(TRAIN_RESULTS + 'desc.p', 'rb'))\n",
    "history = pickle.load(open(TRAIN_RESULTS + 'history.p', 'rb'))\n",
    "conf_mat = pickle.load(open(TRAIN_RESULTS + 'conf_mat.p', 'rb'))"
   ],
   "metadata": {
    "collapsed": false,
    "pycharm": {
     "name": "#%%\n"
    }
   }
  },
  {
   "cell_type": "code",
   "execution_count": null,
   "outputs": [],
   "source": [
    "def print_history_of_model(history, desc, title, key=\"val_accuracy\"):\n",
    "    fig, ax = plt.subplots(1,1, figsize=(12, 6), constrained_layout=True)\n",
    "    fig.suptitle(title, fontsize=16)\n",
    "    mycmap = cm.get_cmap(\"viridis\", len(history))\n",
    "\n",
    "    for i, his in enumerate(history):\n",
    "        name = desc[i] #\"Model \"+str(i+1)\n",
    "        ax.plot(his[key], color=mycmap.colors[i], label=name)\n",
    "    legend = ax.legend(loc='best', shadow=True)\n",
    "    ax.set_title(key)\n",
    "    ax.set_xlabel('epoch')\n",
    "    ax.set_ylabel(key)"
   ],
   "metadata": {
    "collapsed": false,
    "pycharm": {
     "name": "#%%\n"
    }
   }
  },
  {
   "cell_type": "code",
   "execution_count": null,
   "outputs": [],
   "source": [
    "def reshape_history(history, key=\"val_accuracy\"):\n",
    "    new_hist = []\n",
    "    for model_hist in history:\n",
    "        new_hist.append([])\n",
    "        for hist in model_hist:\n",
    "            new_hist[-1].append(hist[key])\n",
    "    return new_hist"
   ],
   "metadata": {
    "collapsed": false,
    "pycharm": {
     "name": "#%%\n"
    }
   }
  },
  {
   "cell_type": "code",
   "execution_count": null,
   "outputs": [],
   "source": [
    "def plot_avg_of_model(history, title, key=\"val_accuracy\", params=[], models=[], series_size=[]):\n",
    "\n",
    "    colors_n = len(models)*len(series_size)\n",
    "    if colors_n==0:\n",
    "        colors_n = len(history)\n",
    "\n",
    "    fig, ax = plt.subplots(1,1, figsize=(12, 6), constrained_layout=True)\n",
    "    fig.suptitle(\"Average \"+ key, fontsize=16)\n",
    "    mycmap = cm.get_cmap('viridis', colors_n)\n",
    "\n",
    "    key_history = reshape_history(history, key)\n",
    "    i_color = 0\n",
    "    for i, his in enumerate(key_history):\n",
    "        if (not models or params[i][0] in models) and (not series_size  or params[i][1] in series_size):\n",
    "            name = title[i]\n",
    "            avg = np.average(his, axis=0)\n",
    "            ax.plot(avg, color=mycmap.colors[i_color], label=name)\n",
    "            i_color+=1\n",
    "    legend = ax.legend(loc='center left', bbox_to_anchor=(1, 0.5), shadow=True)\n",
    "    ax.set_title(key)\n",
    "    ax.set_xlabel('epoch')\n",
    "    ax.set_ylabel(key)\n",
    "\n",
    "plot_avg_of_model(history, title, \"val_accuracy\")"
   ],
   "metadata": {
    "collapsed": false,
    "pycharm": {
     "name": "#%%\n"
    }
   }
  },
  {
   "cell_type": "code",
   "execution_count": null,
   "outputs": [],
   "source": [
    "def plot_avg_conf_matrix(conf_mat,title):\n",
    "    for i, mat in enumerate(conf_mat):\n",
    "        matrix = np.array(mat).sum(axis=0)\n",
    "\n",
    "        sns.heatmap(matrix, square=True, annot=True, cbar=False, cmap=plt.cm.Blues, fmt='.0f')\n",
    "        plt.suptitle(\"Confusion matrix   \"+ title[i], fontsize=16)\n",
    "        plt.xlabel('Predicted Values')\n",
    "        plt.ylabel('True Values')\n",
    "        plt.show()"
   ],
   "metadata": {
    "collapsed": false,
    "pycharm": {
     "name": "#%%\n"
    }
   }
  },
  {
   "cell_type": "code",
   "execution_count": null,
   "outputs": [],
   "source": [
    "for i, his in enumerate(history):\n",
    "    print_history_of_model(his,desc[i],title[i],'loss')"
   ],
   "metadata": {
    "collapsed": false,
    "pycharm": {
     "name": "#%%\n"
    }
   }
  },
  {
   "cell_type": "code",
   "execution_count": null,
   "outputs": [],
   "source": [
    "for i, his in enumerate(history):\n",
    "    print_history_of_model(his,desc[i],title[i],'val_loss')"
   ],
   "metadata": {
    "collapsed": false,
    "pycharm": {
     "name": "#%%\n"
    }
   }
  },
  {
   "cell_type": "code",
   "execution_count": null,
   "outputs": [],
   "source": [
    "for i, his in enumerate(history):\n",
    "    print_history_of_model(his,desc[i],title[i],'accuracy')"
   ],
   "metadata": {
    "collapsed": false,
    "pycharm": {
     "name": "#%%\n"
    }
   }
  },
  {
   "cell_type": "code",
   "execution_count": null,
   "outputs": [],
   "source": [
    "for i, his in enumerate(history):\n",
    "    print_history_of_model(his, desc[i], title[i], 'val_accuracy')"
   ],
   "metadata": {
    "collapsed": false,
    "pycharm": {
     "name": "#%%\n"
    }
   }
  },
  {
   "cell_type": "code",
   "execution_count": null,
   "outputs": [],
   "source": [
    "plot_avg_conf_matrix(conf_mat,title)"
   ],
   "metadata": {
    "collapsed": false,
    "pycharm": {
     "name": "#%%\n"
    }
   }
  },
  {
   "cell_type": "code",
   "execution_count": null,
   "outputs": [],
   "source": [
    "for key in history[0][0].keys():\n",
    "    plot_avg_of_model(history, title, key, params, models=[0,1,2,3], series_size=[2])"
   ],
   "metadata": {
    "collapsed": false,
    "pycharm": {
     "name": "#%%\n"
    }
   }
  },
  {
   "cell_type": "code",
   "execution_count": null,
   "outputs": [],
   "source": [
    "for key in history[0][0].keys():\n",
    "    plot_avg_of_model(history, title, key, params, models=[0,1,2,3], series_size=[5])"
   ],
   "metadata": {
    "collapsed": false,
    "pycharm": {
     "name": "#%%\n"
    }
   }
  },
  {
   "cell_type": "code",
   "execution_count": null,
   "outputs": [],
   "source": [
    "for key in history[0][0].keys():\n",
    "    plot_avg_of_model(history, title, key, params, models=[0,1,2,3], series_size=[10])"
   ],
   "metadata": {
    "collapsed": false,
    "pycharm": {
     "name": "#%%\n"
    }
   }
  },
  {
   "cell_type": "code",
   "execution_count": null,
   "outputs": [],
   "source": [
    "for key in history[0][0].keys():\n",
    "    plot_avg_of_model(history, title, key, params, models=[0,1,2,3], series_size=[31])"
   ],
   "metadata": {
    "collapsed": false,
    "pycharm": {
     "name": "#%%\n"
    }
   }
  },
  {
   "cell_type": "code",
   "execution_count": null,
   "outputs": [],
   "source": [
    "for key in history[0][0].keys():\n",
    "    plot_avg_of_model(history, title, key, params, models=[0], series_size=[2,5,10,31])"
   ],
   "metadata": {
    "collapsed": false,
    "pycharm": {
     "name": "#%%\n"
    }
   }
  },
  {
   "cell_type": "code",
   "execution_count": null,
   "outputs": [],
   "source": [
    "for key in history[0][0].keys():\n",
    "    plot_avg_of_model(history, title, key, params, models=[1], series_size=[2,5,10,31])"
   ],
   "metadata": {
    "collapsed": false,
    "pycharm": {
     "name": "#%%\n"
    }
   }
  },
  {
   "cell_type": "code",
   "execution_count": null,
   "outputs": [],
   "source": [
    "for key in history[0][0].keys():\n",
    "    plot_avg_of_model(history, title, key, params, models=[2], series_size=[2,5,10,31])"
   ],
   "metadata": {
    "collapsed": false,
    "pycharm": {
     "name": "#%%\n"
    }
   }
  },
  {
   "cell_type": "code",
   "execution_count": null,
   "outputs": [],
   "source": [
    "for key in history[0][0].keys():\n",
    "    plot_avg_of_model(history, title, key, params, models=[3], series_size=[2,5,10,31])"
   ],
   "metadata": {
    "collapsed": false,
    "pycharm": {
     "name": "#%%\n"
    }
   }
  }
 ],
 "metadata": {
  "kernelspec": {
   "display_name": "Python 3",
   "language": "python",
   "name": "python3"
  },
  "language_info": {
   "codemirror_mode": {
    "name": "ipython",
    "version": 2
   },
   "file_extension": ".py",
   "mimetype": "text/x-python",
   "name": "python",
   "nbconvert_exporter": "python",
   "pygments_lexer": "ipython2",
   "version": "2.7.6"
  }
 },
 "nbformat": 4,
 "nbformat_minor": 0
}