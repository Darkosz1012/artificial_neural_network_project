{
 "cells": [
  {
   "cell_type": "code",
   "execution_count": 9,
   "outputs": [],
   "source": [
    "import os\n",
    "import pickle\n",
    "\n",
    "import matplotlib.pyplot as plt\n",
    "import numpy as np\n",
    "import pandas as pd\n",
    "import seaborn as sns\n",
    "import sklearn.metrics\n",
    "from tensorflow import keras"
   ],
   "metadata": {
    "collapsed": false,
    "pycharm": {
     "name": "#%%\n"
    }
   }
  },
  {
   "cell_type": "code",
   "execution_count": 2,
   "outputs": [],
   "source": [
    "NORMAL_INPUT_DATA_DIR = \"./split_data/normal/\"\n",
    "FAULT_INPUT_DATA_DIR = \"./split_data/fault/\"\n",
    "TRAIN_RESULTS_DIR = './train_results/'"
   ],
   "metadata": {
    "collapsed": false,
    "pycharm": {
     "name": "#%%\n"
    }
   }
  },
  {
   "cell_type": "code",
   "execution_count": 3,
   "outputs": [],
   "source": [
    "title = pickle.load(open(TRAIN_RESULTS_DIR + 'title.p', 'rb'))\n",
    "params = pickle.load(open(TRAIN_RESULTS_DIR + 'params.p', 'rb'))\n",
    "avg = np.array(pickle.load(open(TRAIN_RESULTS_DIR + 'avg.p', 'rb')))\n",
    "desc = pickle.load(open(TRAIN_RESULTS_DIR + 'desc.p', 'rb'))\n",
    "history = pickle.load(open(TRAIN_RESULTS_DIR + 'history.p', 'rb'))\n",
    "conf_mat = pickle.load(open(TRAIN_RESULTS_DIR + 'conf_mat.p', 'rb'))"
   ],
   "metadata": {
    "collapsed": false,
    "pycharm": {
     "name": "#%%\n"
    }
   }
  },
  {
   "cell_type": "code",
   "execution_count": 4,
   "outputs": [],
   "source": [
    "def get_data(input_dir, series_size=31):\n",
    "    data = []\n",
    "    for (dirpath, dirnames, filenames) in os.walk(input_dir):\n",
    "        for filename in filenames:\n",
    "            try:\n",
    "                path = input_dir+\"/\" + filename\n",
    "                frame = pd.read_csv(path, header=None)\n",
    "                if frame.to_numpy().shape == (31,10):\n",
    "                    data.append(frame.to_numpy().tolist())\n",
    "            except Exception as exp:\n",
    "                print(filename)\n",
    "                print(exp)\n",
    "\n",
    "    split_data = []\n",
    "    for i in range(0,len(data)):\n",
    "        for j in range(0,len(data[i])-series_size+1):\n",
    "            split_data.append(data[i][j:j+series_size])\n",
    "    return np.array(split_data)[:,:,1:10]"
   ],
   "metadata": {
    "collapsed": false,
    "pycharm": {
     "name": "#%%\n"
    }
   }
  },
  {
   "cell_type": "code",
   "execution_count": 5,
   "outputs": [],
   "source": [
    "def load_data(series_size):\n",
    "    normal_data = get_data(NORMAL_INPUT_DATA_DIR,series_size)\n",
    "    fault_data = get_data(FAULT_INPUT_DATA_DIR,series_size)\n",
    "    data = np.concatenate((normal_data, fault_data))\n",
    "    labels = np.concatenate((np.zeros(len(normal_data)), np.ones(len(fault_data))))\n",
    "    return data, labels"
   ],
   "metadata": {
    "collapsed": false,
    "pycharm": {
     "name": "#%%\n"
    }
   }
  },
  {
   "cell_type": "markdown",
   "source": [
    "# Load one of trained models"
   ],
   "metadata": {
    "collapsed": false,
    "pycharm": {
     "name": "#%% md\n"
    }
   }
  },
  {
   "cell_type": "code",
   "execution_count": 6,
   "id": "68bc52aa",
   "metadata": {
    "pycharm": {
     "name": "#%%\n"
    }
   },
   "outputs": [],
   "source": [
    "model_s10 = keras.models.load_model('./best_models/vl0.000012va1.000000m0s10f3.hdf5')"
   ]
  },
  {
   "cell_type": "code",
   "execution_count": 7,
   "outputs": [
    {
     "name": "stdout",
     "output_type": "stream",
     "text": [
      "desktop.ini\n",
      "Error tokenizing data. C error: Expected 1 fields in line 2, saw 2\n",
      "\n",
      "74/74 [==============================] - 1s 4ms/step\n"
     ]
    }
   ],
   "source": [
    "data, labels = load_data(10)\n",
    "y_pred = model_s10.predict(data)"
   ],
   "metadata": {
    "collapsed": false,
    "pycharm": {
     "name": "#%%\n"
    }
   }
  },
  {
   "cell_type": "code",
   "execution_count": 10,
   "outputs": [
    {
     "data": {
      "text/plain": "<Figure size 432x288 with 1 Axes>",
      "image/png": "[encoded data removed]"
     },
     "metadata": {
      "needs_background": "light"
     },
     "output_type": "display_data"
    }
   ],
   "source": [
    "conf_mat = sklearn.metrics.confusion_matrix(labels, y_pred.round())\n",
    "sns.heatmap(conf_mat, square=True, annot=True, cbar=False, cmap=plt.cm.Blues, fmt='.0f')\n",
    "plt.suptitle(\"Confusion matrix\", fontsize=16)\n",
    "plt.xlabel('Predicted Values')\n",
    "plt.ylabel('True Values')\n",
    "plt.show()"
   ],
   "metadata": {
    "collapsed": false,
    "pycharm": {
     "name": "#%%\n"
    }
   }
  }
 ],
 "metadata": {
  "kernelspec": {
   "display_name": "Python 3 (ipykernel)",
   "language": "python",
   "name": "python3"
  },
  "language_info": {
   "codemirror_mode": {
    "name": "ipython",
    "version": 3
   },
   "file_extension": ".py",
   "mimetype": "text/x-python",
   "name": "python",
   "nbconvert_exporter": "python",
   "pygments_lexer": "ipython3",
   "version": "3.9.7"
  }
 },
 "nbformat": 4,
 "nbformat_minor": 5
}